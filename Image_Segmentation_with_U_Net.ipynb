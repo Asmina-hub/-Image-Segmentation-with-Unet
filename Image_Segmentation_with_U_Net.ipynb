{
  "nbformat": 4,
  "nbformat_minor": 0,
  "metadata": {
    "colab": {
      "provenance": [],
      "gpuType": "T4",
      "authorship_tag": "ABX9TyOrN7XqplI0IggBUv1zO/Q1",
      "include_colab_link": true
    },
    "kernelspec": {
      "name": "python3",
      "display_name": "Python 3"
    },
    "language_info": {
      "name": "python"
    },
    "accelerator": "GPU"
  },
  "cells": [
    {
      "cell_type": "markdown",
      "metadata": {
        "id": "view-in-github",
        "colab_type": "text"
      },
      "source": [
        "<a href=\"https://colab.research.google.com/github/Asmina-hub/-Image-Segmentation-with-Unet/blob/main/Image_Segmentation_with_U_Net.ipynb\" target=\"_parent\"><img src=\"https://colab.research.google.com/assets/colab-badge.svg\" alt=\"Open In Colab\"/></a>"
      ]
    },
    {
      "cell_type": "code",
      "execution_count": 2,
      "metadata": {
        "id": "vUlYyj7OWWaO"
      },
      "outputs": [],
      "source": [
        "import copy\n",
        "import os\n",
        "import random\n",
        "import shutil\n",
        "import zipfile\n",
        "from math import atan2, cos, sin, sqrt, pi, log\n",
        "\n",
        "import cv2\n",
        "import matplotlib.pyplot as plt\n",
        "import numpy as np\n",
        "import torch\n",
        "import torch.nn as nn\n",
        "import torch.nn.functional as F\n",
        "import torchvision.transforms as transforms\n",
        "from PIL import Image\n",
        "from numpy import linalg as LA\n",
        "from torch import optim, nn\n",
        "from torch.utils.data import DataLoader, random_split\n",
        "from torch.utils.data.dataset import Dataset\n",
        "from torchvision import transforms\n",
        "from tqdm import tqdm"
      ]
    },
    {
      "cell_type": "code",
      "source": [
        "def conv3x3(in_channels, out_channels, stride=1, padding=1, bias=True, groups=1):\n",
        "  return nn.Conv2d(in_channels, out_channels, kernel_size =3, stride=stride,padding=padding, bias=bias, groups=groups )\n",
        "\n",
        "def upconv2x2(in_channels, out_channels, mode='transpose'):\n",
        "  if mode == 'transpose':\n",
        "    return nn.ConvTranspose2d(in_channels,out_channels,kernel_size=2, stride=2)\n",
        "  else:\n",
        "    return nn.Sequential( nn.Upsample(mode='bilinear',scale_factor=2), conv1x1(in_channels,out_channels))\n",
        "\n",
        "def conv1x1(in_channels, out_channels, groups=1):\n",
        "  return nn.Conv2d(in_channels, out_channels, kernel_size=1, groups=groups, stride=1)\n",
        "\n"
      ],
      "metadata": {
        "id": "3riY35DhqMxf"
      },
      "execution_count": 3,
      "outputs": []
    },
    {
      "cell_type": "code",
      "source": [
        "class DownConv(nn.Module):\n",
        "  def __init__(self, in_channel, out_channel, pooling=True):\n",
        "    super(DownConv, self).__init__()\n",
        "    self.in_channel=in_channel\n",
        "    self.out_channel=out_channel\n",
        "    self.pooling = pooling\n",
        "\n",
        "    self.conv1 = conv3x3(self.in_channel, self.out_channel)\n",
        "    self.conv2 = conv3x3(self.out_channel, self.out_channel)\n",
        "\n",
        "  def forward(self, x):\n",
        "\n",
        "    x = F.relu(self.conv1(x))\n",
        "    x = F.relu(self.conv2(x))\n",
        "    before_pooling = x\n",
        "    if self.pooling:\n",
        "      x = F.max_pool2d(x, kernel_size=2, stride=2)\n",
        "    return x, before_pooling\n",
        "\n"
      ],
      "metadata": {
        "id": "cR6BV8Ucl9Yz"
      },
      "execution_count": 5,
      "outputs": []
    },
    {
      "cell_type": "code",
      "source": [
        "class upConv(nn.Module):\n",
        "  def __init__(self, in_channel, out_channel, up_mode='transpose'):\n",
        "    super(upConv, self).__init__()\n",
        "    self.in_channel = in_channel\n",
        "    self.out_channel = out_channel\n",
        "    self.up_mode = up_mode\n",
        "\n",
        "    self.upconv = upconv2x2( self.in_channel, self.out_channel, mode= self.up_mode)\n",
        "    self.conv1 = conv3x3(\n",
        "            2*self.out_channel, self.out_channel)\n",
        "    self.conv2 = conv3x3(self.out_channel, self.out_channel)\n",
        "\n",
        "\n",
        "\n",
        "  def forward(self, from_down, from_up):\n",
        "    up = self.upconv(from_up)\n",
        "    x = torch.cat((up, from_down), 1)\n",
        "    x = F.relu(self.conv1(x))\n",
        "    x = F.relu(self.conv2(x))\n",
        "    return x\n",
        "\n",
        "\n",
        "\n",
        "\n"
      ],
      "metadata": {
        "id": "SJGE16WPo4Pe"
      },
      "execution_count": 12,
      "outputs": []
    },
    {
      "cell_type": "code",
      "source": [
        "class UNet(nn.Module):\n",
        "  \"\"\" Unet Architecture \"\"\"\n",
        "  def __init__(self, in_channel, class_no):\n",
        "    super(UNet, self).__init__()\n",
        "    self.down_convolution_1 = DownConv(in_channel, 64)\n",
        "    self.down_convolution_2 = DownConv(64, 128)\n",
        "    self.down_convolution_3 = DownConv(128, 256)\n",
        "    self.down_convolution_4 = DownConv(256, 512)\n",
        "    self.bottle_neck = DownConv(512, 1024, pooling=False)\n",
        "    self.up_convolution_1 = upConv(1024, 512)\n",
        "    self.up_convolution_2 = upConv(512, 256)\n",
        "    self.up_convolution_3 = upConv(256, 128)\n",
        "    self.up_convolution_4 = upConv(128, 64)\n",
        "    self.out = conv1x1(64, class_no)\n",
        "\n",
        "  def forward(self, x):\n",
        "    x1, before_pooling1 = self.down_convolution_1(x)\n",
        "    x2, before_pooling2 = self.down_convolution_2(x1)\n",
        "    x3, before_pooling3 = self.down_convolution_3(x2)\n",
        "    x4, before_pooling4 = self.down_convolution_4(x3)\n",
        "    x5, _ = self.bottle_neck(x4)\n",
        "    up1 = self.up_convolution_1(before_pooling4, x5)\n",
        "    up2 = self.up_convolution_2(before_pooling3, up1)\n",
        "    up3 = self.up_convolution_3(before_pooling2, up2)\n",
        "    up4 = self.up_convolution_4(before_pooling1, up3)\n",
        "    out = self.out(up4)\n",
        "    return out"
      ],
      "metadata": {
        "id": "5U8PcnebG_YI"
      },
      "execution_count": 16,
      "outputs": []
    },
    {
      "cell_type": "code",
      "source": [
        "input_image = torch.rand((1,3,512,512))\n",
        "model = UNet(3,10)\n",
        "output = model(input_image)\n",
        "print(output.size())"
      ],
      "metadata": {
        "colab": {
          "base_uri": "https://localhost:8080/"
        },
        "id": "kffSinKZLs8R",
        "outputId": "331de5f0-aa98-4310-9798-aac248d8897a"
      },
      "execution_count": 17,
      "outputs": [
        {
          "output_type": "stream",
          "name": "stdout",
          "text": [
            "torch.Size([1, 10, 512, 512])\n"
          ]
        }
      ]
    },
    {
      "cell_type": "code",
      "source": [],
      "metadata": {
        "id": "I0Gd3eORMNLv"
      },
      "execution_count": null,
      "outputs": []
    }
  ]
}